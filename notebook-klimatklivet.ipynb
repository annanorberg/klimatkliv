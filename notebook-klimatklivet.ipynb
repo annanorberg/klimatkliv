{
 "cells": [
  {
   "cell_type": "markdown",
   "metadata": {},
   "source": [
    "## Analys av klimatklivsutbetalningar från Naturvårdsverkets\n",
    "\n",
    "av [Anna Norberg](https://www.twitter.com/annanorberg)\n",
    "\n",
    "Totalt har 4,5 miljarder kronor fördelats inom Klimatklivet sedan 2015 på cirka 3 200 ansökningar. Grunddata är den Excelfil som finns på Naturvårdsverkets [hemsida](http://www.naturvardsverket.se/Stod-i-miljoarbetet/Bidrag/Klimatklivet/Resultat-for-Klimatklivet/). Resultatet av analysen har använts som underlag till en artikel som skickades ut till Nyhetsbyråns Sirens kunder den 18 december 2019."
   ]
  },
  {
   "cell_type": "code",
   "execution_count": 24,
   "metadata": {},
   "outputs": [],
   "source": [
    "options(scipen=999, warn=-1)\n",
    "\n",
    "library(readxl)\n",
    "library(dplyr)\n",
    "library(here)\n",
    "library(readr)\n",
    "library(openxlsx)\n",
    "library(tidyr)"
   ]
  },
  {
   "cell_type": "markdown",
   "metadata": {},
   "source": [
    "**Läs in data.**"
   ]
  },
  {
   "cell_type": "code",
   "execution_count": 28,
   "metadata": {},
   "outputs": [],
   "source": [
    "df <- read_excel(here(\"klimatklivet\",\"input\", \"beviljade-ansokningar-klimatklivet-20191202.xlsx\"))\n",
    "raw <- arrange(df, Län)"
   ]
  },
  {
   "cell_type": "code",
   "execution_count": 29,
   "metadata": {},
   "outputs": [
    {
     "data": {
      "text/html": [
       "<table>\n",
       "<caption>A tibble: 6 × 8</caption>\n",
       "<thead>\n",
       "\t<tr><th scope=col>Åtgärdskategori</th><th scope=col>Namn</th><th scope=col>Rubrik</th><th scope=col>Beviljat stödbelopp</th><th scope=col>Stödandel i %</th><th scope=col>Län</th><th scope=col>Naturvårdsverkets diarienummer</th><th scope=col>Beslutsdatum</th></tr>\n",
       "\t<tr><th scope=col>&lt;chr&gt;</th><th scope=col>&lt;chr&gt;</th><th scope=col>&lt;chr&gt;</th><th scope=col>&lt;dbl&gt;</th><th scope=col>&lt;dbl&gt;</th><th scope=col>&lt;chr&gt;</th><th scope=col>&lt;chr&gt;</th><th scope=col>&lt;dttm&gt;</th></tr>\n",
       "</thead>\n",
       "<tbody>\n",
       "\t<tr><td>Energieffektivisering</td><td>Övägens lantbruksaktiebolag </td><td>Energieffektivisering i lantbruk   </td><td>637000</td><td>0.50</td><td>Blekinge län</td><td>KKL-04182-2018</td><td>2018-10-02</td></tr>\n",
       "\t<tr><td>Energieffektivisering</td><td>ITE Fabriks AB              </td><td>Energieffektivisering industri     </td><td>328000</td><td>0.40</td><td>Blekinge län</td><td>KKL-05746-2018</td><td>2018-12-06</td></tr>\n",
       "\t<tr><td>Energikonvertering   </td><td>Norje Smidesfabrik AB       </td><td>Byte av fossil olja till biobränsle</td><td>750000</td><td>0.50</td><td>Blekinge län</td><td>KKL-00046-2016</td><td>2016-06-01</td></tr>\n",
       "\t<tr><td>Energikonvertering   </td><td>Nordic Vehicle Conversion AB</td><td>Konvertering oljepanna             </td><td>589200</td><td>0.60</td><td>Blekinge län</td><td>KKL-00516-2016</td><td>2016-09-28</td></tr>\n",
       "\t<tr><td>Energikonvertering   </td><td>Feralco Nordic AB           </td><td>Konvertering från olja till bioolja</td><td>714740</td><td>0.65</td><td>Blekinge län</td><td>KKL-01340-2016</td><td>2017-04-19</td></tr>\n",
       "\t<tr><td>Energikonvertering   </td><td>Ola Bosson                  </td><td>Spannmålstork                      </td><td>300000</td><td>0.50</td><td>Blekinge län</td><td>KKL-01590-2016</td><td>2017-04-11</td></tr>\n",
       "</tbody>\n",
       "</table>\n"
      ],
      "text/latex": [
       "A tibble: 6 × 8\n",
       "\\begin{tabular}{llllllll}\n",
       " Åtgärdskategori & Namn & Rubrik & Beviljat stödbelopp & Stödandel i \\% & Län & Naturvårdsverkets diarienummer & Beslutsdatum\\\\\n",
       " <chr> & <chr> & <chr> & <dbl> & <dbl> & <chr> & <chr> & <dttm>\\\\\n",
       "\\hline\n",
       "\t Energieffektivisering & Övägens lantbruksaktiebolag  & Energieffektivisering i lantbruk    & 637000 & 0.50 & Blekinge län & KKL-04182-2018 & 2018-10-02\\\\\n",
       "\t Energieffektivisering & ITE Fabriks AB               & Energieffektivisering industri      & 328000 & 0.40 & Blekinge län & KKL-05746-2018 & 2018-12-06\\\\\n",
       "\t Energikonvertering    & Norje Smidesfabrik AB        & Byte av fossil olja till biobränsle & 750000 & 0.50 & Blekinge län & KKL-00046-2016 & 2016-06-01\\\\\n",
       "\t Energikonvertering    & Nordic Vehicle Conversion AB & Konvertering oljepanna              & 589200 & 0.60 & Blekinge län & KKL-00516-2016 & 2016-09-28\\\\\n",
       "\t Energikonvertering    & Feralco Nordic AB            & Konvertering från olja till bioolja & 714740 & 0.65 & Blekinge län & KKL-01340-2016 & 2017-04-19\\\\\n",
       "\t Energikonvertering    & Ola Bosson                   & Spannmålstork                       & 300000 & 0.50 & Blekinge län & KKL-01590-2016 & 2017-04-11\\\\\n",
       "\\end{tabular}\n"
      ],
      "text/markdown": [
       "\n",
       "A tibble: 6 × 8\n",
       "\n",
       "| Åtgärdskategori &lt;chr&gt; | Namn &lt;chr&gt; | Rubrik &lt;chr&gt; | Beviljat stödbelopp &lt;dbl&gt; | Stödandel i % &lt;dbl&gt; | Län &lt;chr&gt; | Naturvårdsverkets diarienummer &lt;chr&gt; | Beslutsdatum &lt;dttm&gt; |\n",
       "|---|---|---|---|---|---|---|---|\n",
       "| Energieffektivisering | Övägens lantbruksaktiebolag  | Energieffektivisering i lantbruk    | 637000 | 0.50 | Blekinge län | KKL-04182-2018 | 2018-10-02 |\n",
       "| Energieffektivisering | ITE Fabriks AB               | Energieffektivisering industri      | 328000 | 0.40 | Blekinge län | KKL-05746-2018 | 2018-12-06 |\n",
       "| Energikonvertering    | Norje Smidesfabrik AB        | Byte av fossil olja till biobränsle | 750000 | 0.50 | Blekinge län | KKL-00046-2016 | 2016-06-01 |\n",
       "| Energikonvertering    | Nordic Vehicle Conversion AB | Konvertering oljepanna              | 589200 | 0.60 | Blekinge län | KKL-00516-2016 | 2016-09-28 |\n",
       "| Energikonvertering    | Feralco Nordic AB            | Konvertering från olja till bioolja | 714740 | 0.65 | Blekinge län | KKL-01340-2016 | 2017-04-19 |\n",
       "| Energikonvertering    | Ola Bosson                   | Spannmålstork                       | 300000 | 0.50 | Blekinge län | KKL-01590-2016 | 2017-04-11 |\n",
       "\n"
      ],
      "text/plain": [
       "  Åtgärdskategori       Namn                        \n",
       "1 Energieffektivisering Övägens lantbruksaktiebolag \n",
       "2 Energieffektivisering ITE Fabriks AB              \n",
       "3 Energikonvertering    Norje Smidesfabrik AB       \n",
       "4 Energikonvertering    Nordic Vehicle Conversion AB\n",
       "5 Energikonvertering    Feralco Nordic AB           \n",
       "6 Energikonvertering    Ola Bosson                  \n",
       "  Rubrik                              Beviljat stödbelopp Stödandel i %\n",
       "1 Energieffektivisering i lantbruk    637000              0.50         \n",
       "2 Energieffektivisering industri      328000              0.40         \n",
       "3 Byte av fossil olja till biobränsle 750000              0.50         \n",
       "4 Konvertering oljepanna              589200              0.60         \n",
       "5 Konvertering från olja till bioolja 714740              0.65         \n",
       "6 Spannmålstork                       300000              0.50         \n",
       "  Län          Naturvårdsverkets diarienummer Beslutsdatum\n",
       "1 Blekinge län KKL-04182-2018                 2018-10-02  \n",
       "2 Blekinge län KKL-05746-2018                 2018-12-06  \n",
       "3 Blekinge län KKL-00046-2016                 2016-06-01  \n",
       "4 Blekinge län KKL-00516-2016                 2016-09-28  \n",
       "5 Blekinge län KKL-01340-2016                 2017-04-19  \n",
       "6 Blekinge län KKL-01590-2016                 2017-04-11  "
      ]
     },
     "metadata": {},
     "output_type": "display_data"
    }
   ],
   "source": [
    "head(raw)"
   ]
  },
  {
   "cell_type": "markdown",
   "metadata": {},
   "source": [
    "**Extrahera år från datum och lägg till kolumnen \"År\".**"
   ]
  },
  {
   "cell_type": "code",
   "execution_count": 7,
   "metadata": {},
   "outputs": [],
   "source": [
    "df$År <- as.numeric(format(df$Beslutsdatum, \"%Y\"))"
   ]
  },
  {
   "cell_type": "code",
   "execution_count": 8,
   "metadata": {},
   "outputs": [
    {
     "data": {
      "text/html": [
       "<table>\n",
       "<caption>A tibble: 6 × 9</caption>\n",
       "<thead>\n",
       "\t<tr><th scope=col>Åtgärdskategori</th><th scope=col>Namn</th><th scope=col>Rubrik</th><th scope=col>Beviljat stödbelopp</th><th scope=col>Stödandel i %</th><th scope=col>Län</th><th scope=col>Naturvårdsverkets diarienummer</th><th scope=col>Beslutsdatum</th><th scope=col>År</th></tr>\n",
       "\t<tr><th scope=col>&lt;chr&gt;</th><th scope=col>&lt;chr&gt;</th><th scope=col>&lt;chr&gt;</th><th scope=col>&lt;dbl&gt;</th><th scope=col>&lt;dbl&gt;</th><th scope=col>&lt;chr&gt;</th><th scope=col>&lt;chr&gt;</th><th scope=col>&lt;dttm&gt;</th><th scope=col>&lt;dbl&gt;</th></tr>\n",
       "</thead>\n",
       "<tbody>\n",
       "\t<tr><td>Avfall</td><td>Nordvästra Skånes Vatten och Avlopp AB NSVA</td><td>klimatanpassning av RECO lab               </td><td>  1950000</td><td>0.7222222</td><td>Skåne län        </td><td>KKL-02160-2017</td><td>2018-01-17</td><td>2018</td></tr>\n",
       "\t<tr><td>Avfall</td><td>Stockholm Exergi Materialåtervinning AB    </td><td>Sorteringsanläggning restavfall            </td><td>134000000</td><td>0.3498695</td><td>Stockholms län   </td><td>KKL-02186-2017</td><td>2017-12-01</td><td>2017</td></tr>\n",
       "\t<tr><td>Avfall</td><td>Smedjebackens kommun                       </td><td>Dalarna minskar avfallet - projekt matsvinn</td><td>   700000</td><td>0.5000000</td><td>Dalarnas län     </td><td>KKL-02694-2017</td><td>2018-02-21</td><td>2018</td></tr>\n",
       "\t<tr><td>Avfall</td><td>Tekniska verken i Linköping AB             </td><td>Utveckla återbruket på Linköpings ÅVCer    </td><td>  1750000</td><td>0.3500000</td><td>Östergötlands län</td><td>KKL-02864-2017</td><td>2018-03-05</td><td>2018</td></tr>\n",
       "\t<tr><td>Avfall</td><td>Kretslopp och Recycling i Sverige AB       </td><td>Återvinning av ensilageplast               </td><td> 22550000</td><td>0.5500000</td><td>Jönköpings län   </td><td>KKL-04307-2018</td><td>2018-12-11</td><td>2018</td></tr>\n",
       "\t<tr><td>Avfall</td><td>Carl F AB                                  </td><td>Utökad kapacitet av sorteringsrobot        </td><td>   402500</td><td>0.3500000</td><td>Skåne län        </td><td>KKL-05251-2018</td><td>2018-12-05</td><td>2018</td></tr>\n",
       "</tbody>\n",
       "</table>\n"
      ],
      "text/latex": [
       "A tibble: 6 × 9\n",
       "\\begin{tabular}{lllllllll}\n",
       " Åtgärdskategori & Namn & Rubrik & Beviljat stödbelopp & Stödandel i \\% & Län & Naturvårdsverkets diarienummer & Beslutsdatum & År\\\\\n",
       " <chr> & <chr> & <chr> & <dbl> & <dbl> & <chr> & <chr> & <dttm> & <dbl>\\\\\n",
       "\\hline\n",
       "\t Avfall & Nordvästra Skånes Vatten och Avlopp AB NSVA & klimatanpassning av RECO lab                &   1950000 & 0.7222222 & Skåne län         & KKL-02160-2017 & 2018-01-17 & 2018\\\\\n",
       "\t Avfall & Stockholm Exergi Materialåtervinning AB     & Sorteringsanläggning restavfall             & 134000000 & 0.3498695 & Stockholms län    & KKL-02186-2017 & 2017-12-01 & 2017\\\\\n",
       "\t Avfall & Smedjebackens kommun                        & Dalarna minskar avfallet - projekt matsvinn &    700000 & 0.5000000 & Dalarnas län      & KKL-02694-2017 & 2018-02-21 & 2018\\\\\n",
       "\t Avfall & Tekniska verken i Linköping AB              & Utveckla återbruket på Linköpings ÅVCer     &   1750000 & 0.3500000 & Östergötlands län & KKL-02864-2017 & 2018-03-05 & 2018\\\\\n",
       "\t Avfall & Kretslopp och Recycling i Sverige AB        & Återvinning av ensilageplast                &  22550000 & 0.5500000 & Jönköpings län    & KKL-04307-2018 & 2018-12-11 & 2018\\\\\n",
       "\t Avfall & Carl F AB                                   & Utökad kapacitet av sorteringsrobot         &    402500 & 0.3500000 & Skåne län         & KKL-05251-2018 & 2018-12-05 & 2018\\\\\n",
       "\\end{tabular}\n"
      ],
      "text/markdown": [
       "\n",
       "A tibble: 6 × 9\n",
       "\n",
       "| Åtgärdskategori &lt;chr&gt; | Namn &lt;chr&gt; | Rubrik &lt;chr&gt; | Beviljat stödbelopp &lt;dbl&gt; | Stödandel i % &lt;dbl&gt; | Län &lt;chr&gt; | Naturvårdsverkets diarienummer &lt;chr&gt; | Beslutsdatum &lt;dttm&gt; | År &lt;dbl&gt; |\n",
       "|---|---|---|---|---|---|---|---|---|\n",
       "| Avfall | Nordvästra Skånes Vatten och Avlopp AB NSVA | klimatanpassning av RECO lab                |   1950000 | 0.7222222 | Skåne län         | KKL-02160-2017 | 2018-01-17 | 2018 |\n",
       "| Avfall | Stockholm Exergi Materialåtervinning AB     | Sorteringsanläggning restavfall             | 134000000 | 0.3498695 | Stockholms län    | KKL-02186-2017 | 2017-12-01 | 2017 |\n",
       "| Avfall | Smedjebackens kommun                        | Dalarna minskar avfallet - projekt matsvinn |    700000 | 0.5000000 | Dalarnas län      | KKL-02694-2017 | 2018-02-21 | 2018 |\n",
       "| Avfall | Tekniska verken i Linköping AB              | Utveckla återbruket på Linköpings ÅVCer     |   1750000 | 0.3500000 | Östergötlands län | KKL-02864-2017 | 2018-03-05 | 2018 |\n",
       "| Avfall | Kretslopp och Recycling i Sverige AB        | Återvinning av ensilageplast                |  22550000 | 0.5500000 | Jönköpings län    | KKL-04307-2018 | 2018-12-11 | 2018 |\n",
       "| Avfall | Carl F AB                                   | Utökad kapacitet av sorteringsrobot         |    402500 | 0.3500000 | Skåne län         | KKL-05251-2018 | 2018-12-05 | 2018 |\n",
       "\n"
      ],
      "text/plain": [
       "  Åtgärdskategori Namn                                       \n",
       "1 Avfall          Nordvästra Skånes Vatten och Avlopp AB NSVA\n",
       "2 Avfall          Stockholm Exergi Materialåtervinning AB    \n",
       "3 Avfall          Smedjebackens kommun                       \n",
       "4 Avfall          Tekniska verken i Linköping AB             \n",
       "5 Avfall          Kretslopp och Recycling i Sverige AB       \n",
       "6 Avfall          Carl F AB                                  \n",
       "  Rubrik                                      Beviljat stödbelopp Stödandel i %\n",
       "1 klimatanpassning av RECO lab                  1950000           0.7222222    \n",
       "2 Sorteringsanläggning restavfall             134000000           0.3498695    \n",
       "3 Dalarna minskar avfallet - projekt matsvinn    700000           0.5000000    \n",
       "4 Utveckla återbruket på Linköpings ÅVCer       1750000           0.3500000    \n",
       "5 Återvinning av ensilageplast                 22550000           0.5500000    \n",
       "6 Utökad kapacitet av sorteringsrobot            402500           0.3500000    \n",
       "  Län               Naturvårdsverkets diarienummer Beslutsdatum År  \n",
       "1 Skåne län         KKL-02160-2017                 2018-01-17   2018\n",
       "2 Stockholms län    KKL-02186-2017                 2017-12-01   2017\n",
       "3 Dalarnas län      KKL-02694-2017                 2018-02-21   2018\n",
       "4 Östergötlands län KKL-02864-2017                 2018-03-05   2018\n",
       "5 Jönköpings län    KKL-04307-2018                 2018-12-11   2018\n",
       "6 Skåne län         KKL-05251-2018                 2018-12-05   2018"
      ]
     },
     "metadata": {},
     "output_type": "display_data"
    }
   ],
   "source": [
    "head(df)"
   ]
  },
  {
   "cell_type": "markdown",
   "metadata": {},
   "source": [
    "**Beviljat stödbelopp.**"
   ]
  },
  {
   "cell_type": "code",
   "execution_count": 9,
   "metadata": {},
   "outputs": [
    {
     "data": {
      "text/html": [
       "<table>\n",
       "<caption>A tibble: 1 × 5</caption>\n",
       "<thead>\n",
       "\t<tr><th scope=col>Totalt</th><th scope=col>Största</th><th scope=col>Minsta</th><th scope=col>Medel</th><th scope=col>Antal ansökningar</th></tr>\n",
       "\t<tr><th scope=col>&lt;dbl&gt;</th><th scope=col>&lt;dbl&gt;</th><th scope=col>&lt;dbl&gt;</th><th scope=col>&lt;dbl&gt;</th><th scope=col>&lt;int&gt;</th></tr>\n",
       "</thead>\n",
       "<tbody>\n",
       "\t<tr><td>4545743476</td><td>150000000</td><td>7000</td><td>1435347</td><td>3167</td></tr>\n",
       "</tbody>\n",
       "</table>\n"
      ],
      "text/latex": [
       "A tibble: 1 × 5\n",
       "\\begin{tabular}{lllll}\n",
       " Totalt & Största & Minsta & Medel & Antal ansökningar\\\\\n",
       " <dbl> & <dbl> & <dbl> & <dbl> & <int>\\\\\n",
       "\\hline\n",
       "\t 4545743476 & 150000000 & 7000 & 1435347 & 3167\\\\\n",
       "\\end{tabular}\n"
      ],
      "text/markdown": [
       "\n",
       "A tibble: 1 × 5\n",
       "\n",
       "| Totalt &lt;dbl&gt; | Största &lt;dbl&gt; | Minsta &lt;dbl&gt; | Medel &lt;dbl&gt; | Antal ansökningar &lt;int&gt; |\n",
       "|---|---|---|---|---|\n",
       "| 4545743476 | 150000000 | 7000 | 1435347 | 3167 |\n",
       "\n"
      ],
      "text/plain": [
       "  Totalt     Största   Minsta Medel   Antal ansökningar\n",
       "1 4545743476 150000000 7000   1435347 3167             "
      ]
     },
     "metadata": {},
     "output_type": "display_data"
    }
   ],
   "source": [
    "belopp <- df %>% \n",
    "  summarize(\"Totalt\"=sum(`Beviljat stödbelopp`), \n",
    "            \"Största\"=max(`Beviljat stödbelopp`), \n",
    "            \"Minsta\"=min(`Beviljat stödbelopp`),\n",
    "            \"Medel\"=mean(`Beviljat stödbelopp`),\n",
    "            \"Antal ansökningar\"=n())\n",
    "head(belopp)"
   ]
  },
  {
   "cell_type": "markdown",
   "metadata": {},
   "source": [
    "**Ansökningar per kategori.**"
   ]
  },
  {
   "cell_type": "code",
   "execution_count": 12,
   "metadata": {},
   "outputs": [
    {
     "data": {
      "text/html": [
       "<table>\n",
       "<caption>A tibble: 11 × 3</caption>\n",
       "<thead>\n",
       "\t<tr><th scope=col>Åtgärdskategori</th><th scope=col>Antal ansökningar</th><th scope=col>Beviljat stödbelopp (kr)</th></tr>\n",
       "\t<tr><th scope=col>&lt;chr&gt;</th><th scope=col>&lt;int&gt;</th><th scope=col>&lt;dbl&gt;</th></tr>\n",
       "</thead>\n",
       "<tbody>\n",
       "\t<tr><td>Laddstation          </td><td>2039</td><td> 441427339</td></tr>\n",
       "\t<tr><td>Energikonvertering   </td><td> 682</td><td>1404860510</td></tr>\n",
       "\t<tr><td>Transport            </td><td> 166</td><td> 933697234</td></tr>\n",
       "\t<tr><td>Fordon               </td><td>  60</td><td> 122032443</td></tr>\n",
       "\t<tr><td>Informationsinsatser </td><td>  59</td><td>  54249851</td></tr>\n",
       "\t<tr><td>Energieffektivisering</td><td>  50</td><td> 272196684</td></tr>\n",
       "\t<tr><td>Produktion biogas    </td><td>  38</td><td> 900788114</td></tr>\n",
       "\t<tr><td>Infrastruktur        </td><td>  36</td><td> 138921349</td></tr>\n",
       "\t<tr><td>Gasutsläpp           </td><td>  23</td><td>  53792051</td></tr>\n",
       "\t<tr><td>Avfall               </td><td>  13</td><td> 223288321</td></tr>\n",
       "\t<tr><td>Övrigt               </td><td>   1</td><td>    489580</td></tr>\n",
       "</tbody>\n",
       "</table>\n"
      ],
      "text/latex": [
       "A tibble: 11 × 3\n",
       "\\begin{tabular}{lll}\n",
       " Åtgärdskategori & Antal ansökningar & Beviljat stödbelopp (kr)\\\\\n",
       " <chr> & <int> & <dbl>\\\\\n",
       "\\hline\n",
       "\t Laddstation           & 2039 &  441427339\\\\\n",
       "\t Energikonvertering    &  682 & 1404860510\\\\\n",
       "\t Transport             &  166 &  933697234\\\\\n",
       "\t Fordon                &   60 &  122032443\\\\\n",
       "\t Informationsinsatser  &   59 &   54249851\\\\\n",
       "\t Energieffektivisering &   50 &  272196684\\\\\n",
       "\t Produktion biogas     &   38 &  900788114\\\\\n",
       "\t Infrastruktur         &   36 &  138921349\\\\\n",
       "\t Gasutsläpp            &   23 &   53792051\\\\\n",
       "\t Avfall                &   13 &  223288321\\\\\n",
       "\t Övrigt                &    1 &     489580\\\\\n",
       "\\end{tabular}\n"
      ],
      "text/markdown": [
       "\n",
       "A tibble: 11 × 3\n",
       "\n",
       "| Åtgärdskategori &lt;chr&gt; | Antal ansökningar &lt;int&gt; | Beviljat stödbelopp (kr) &lt;dbl&gt; |\n",
       "|---|---|---|\n",
       "| Laddstation           | 2039 |  441427339 |\n",
       "| Energikonvertering    |  682 | 1404860510 |\n",
       "| Transport             |  166 |  933697234 |\n",
       "| Fordon                |   60 |  122032443 |\n",
       "| Informationsinsatser  |   59 |   54249851 |\n",
       "| Energieffektivisering |   50 |  272196684 |\n",
       "| Produktion biogas     |   38 |  900788114 |\n",
       "| Infrastruktur         |   36 |  138921349 |\n",
       "| Gasutsläpp            |   23 |   53792051 |\n",
       "| Avfall                |   13 |  223288321 |\n",
       "| Övrigt                |    1 |     489580 |\n",
       "\n"
      ],
      "text/plain": [
       "   Åtgärdskategori       Antal ansökningar Beviljat stödbelopp (kr)\n",
       "1  Laddstation           2039               441427339              \n",
       "2  Energikonvertering     682              1404860510              \n",
       "3  Transport              166               933697234              \n",
       "4  Fordon                  60               122032443              \n",
       "5  Informationsinsatser    59                54249851              \n",
       "6  Energieffektivisering   50               272196684              \n",
       "7  Produktion biogas       38               900788114              \n",
       "8  Infrastruktur           36               138921349              \n",
       "9  Gasutsläpp              23                53792051              \n",
       "10 Avfall                  13               223288321              \n",
       "11 Övrigt                   1                  489580              "
      ]
     },
     "metadata": {},
     "output_type": "display_data"
    }
   ],
   "source": [
    "kategori <- df %>% \n",
    "  group_by(Åtgärdskategori) %>% \n",
    "  summarize(\"Antal ansökningar\"=n(), \"Beviljat stödbelopp (kr)\"=sum(`Beviljat stödbelopp`))\n",
    "\n",
    "kategori <- arrange(kategori, desc(`Antal ansökningar`))\n",
    "head(kategori, 15)"
   ]
  },
  {
   "cell_type": "markdown",
   "metadata": {},
   "source": [
    "**Ansökningar och belopp per län.**"
   ]
  },
  {
   "cell_type": "code",
   "execution_count": 15,
   "metadata": {},
   "outputs": [
    {
     "data": {
      "text/html": [
       "<table>\n",
       "<caption>A tibble: 21 × 3</caption>\n",
       "<thead>\n",
       "\t<tr><th scope=col>Län</th><th scope=col>Antal ansökningar</th><th scope=col>Beviljat stödbelopp (kr)</th></tr>\n",
       "\t<tr><th scope=col>&lt;chr&gt;</th><th scope=col>&lt;int&gt;</th><th scope=col>&lt;dbl&gt;</th></tr>\n",
       "</thead>\n",
       "<tbody>\n",
       "\t<tr><td>Blekinge län        </td><td> 56</td><td> 52818039</td></tr>\n",
       "\t<tr><td>Dalarnas län        </td><td>118</td><td>181079328</td></tr>\n",
       "\t<tr><td>Gotlands län        </td><td> 29</td><td> 63826347</td></tr>\n",
       "\t<tr><td>Gävleborgs län      </td><td> 67</td><td>330743348</td></tr>\n",
       "\t<tr><td>Hallands län        </td><td>113</td><td>156778004</td></tr>\n",
       "\t<tr><td>Jämtlands län       </td><td> 58</td><td> 33982476</td></tr>\n",
       "\t<tr><td>Jönköpings län      </td><td>184</td><td>420079329</td></tr>\n",
       "\t<tr><td>Kalmar län          </td><td> 83</td><td>273688433</td></tr>\n",
       "\t<tr><td>Kronobergs län      </td><td> 75</td><td> 76019976</td></tr>\n",
       "\t<tr><td>Norrbottens län     </td><td> 65</td><td>111060760</td></tr>\n",
       "\t<tr><td>Skåne län           </td><td>383</td><td>535006475</td></tr>\n",
       "\t<tr><td>Stockholms län      </td><td>721</td><td>604677046</td></tr>\n",
       "\t<tr><td>Södermanlands län   </td><td>106</td><td>185568071</td></tr>\n",
       "\t<tr><td>Uppsala län         </td><td>102</td><td>176335232</td></tr>\n",
       "\t<tr><td>Värmlands län       </td><td> 80</td><td> 47956050</td></tr>\n",
       "\t<tr><td>Västerbottens län   </td><td> 74</td><td> 87828209</td></tr>\n",
       "\t<tr><td>Västernorrlands län </td><td> 62</td><td> 67040702</td></tr>\n",
       "\t<tr><td>Västmanlands län    </td><td> 88</td><td>118791845</td></tr>\n",
       "\t<tr><td>Västra Götalands län</td><td>454</td><td>574755435</td></tr>\n",
       "\t<tr><td>Örebro län          </td><td> 93</td><td>209847175</td></tr>\n",
       "\t<tr><td>Östergötlands län   </td><td>156</td><td>237861196</td></tr>\n",
       "</tbody>\n",
       "</table>\n"
      ],
      "text/latex": [
       "A tibble: 21 × 3\n",
       "\\begin{tabular}{lll}\n",
       " Län & Antal ansökningar & Beviljat stödbelopp (kr)\\\\\n",
       " <chr> & <int> & <dbl>\\\\\n",
       "\\hline\n",
       "\t Blekinge län         &  56 &  52818039\\\\\n",
       "\t Dalarnas län         & 118 & 181079328\\\\\n",
       "\t Gotlands län         &  29 &  63826347\\\\\n",
       "\t Gävleborgs län       &  67 & 330743348\\\\\n",
       "\t Hallands län         & 113 & 156778004\\\\\n",
       "\t Jämtlands län        &  58 &  33982476\\\\\n",
       "\t Jönköpings län       & 184 & 420079329\\\\\n",
       "\t Kalmar län           &  83 & 273688433\\\\\n",
       "\t Kronobergs län       &  75 &  76019976\\\\\n",
       "\t Norrbottens län      &  65 & 111060760\\\\\n",
       "\t Skåne län            & 383 & 535006475\\\\\n",
       "\t Stockholms län       & 721 & 604677046\\\\\n",
       "\t Södermanlands län    & 106 & 185568071\\\\\n",
       "\t Uppsala län          & 102 & 176335232\\\\\n",
       "\t Värmlands län        &  80 &  47956050\\\\\n",
       "\t Västerbottens län    &  74 &  87828209\\\\\n",
       "\t Västernorrlands län  &  62 &  67040702\\\\\n",
       "\t Västmanlands län     &  88 & 118791845\\\\\n",
       "\t Västra Götalands län & 454 & 574755435\\\\\n",
       "\t Örebro län           &  93 & 209847175\\\\\n",
       "\t Östergötlands län    & 156 & 237861196\\\\\n",
       "\\end{tabular}\n"
      ],
      "text/markdown": [
       "\n",
       "A tibble: 21 × 3\n",
       "\n",
       "| Län &lt;chr&gt; | Antal ansökningar &lt;int&gt; | Beviljat stödbelopp (kr) &lt;dbl&gt; |\n",
       "|---|---|---|\n",
       "| Blekinge län         |  56 |  52818039 |\n",
       "| Dalarnas län         | 118 | 181079328 |\n",
       "| Gotlands län         |  29 |  63826347 |\n",
       "| Gävleborgs län       |  67 | 330743348 |\n",
       "| Hallands län         | 113 | 156778004 |\n",
       "| Jämtlands län        |  58 |  33982476 |\n",
       "| Jönköpings län       | 184 | 420079329 |\n",
       "| Kalmar län           |  83 | 273688433 |\n",
       "| Kronobergs län       |  75 |  76019976 |\n",
       "| Norrbottens län      |  65 | 111060760 |\n",
       "| Skåne län            | 383 | 535006475 |\n",
       "| Stockholms län       | 721 | 604677046 |\n",
       "| Södermanlands län    | 106 | 185568071 |\n",
       "| Uppsala län          | 102 | 176335232 |\n",
       "| Värmlands län        |  80 |  47956050 |\n",
       "| Västerbottens län    |  74 |  87828209 |\n",
       "| Västernorrlands län  |  62 |  67040702 |\n",
       "| Västmanlands län     |  88 | 118791845 |\n",
       "| Västra Götalands län | 454 | 574755435 |\n",
       "| Örebro län           |  93 | 209847175 |\n",
       "| Östergötlands län    | 156 | 237861196 |\n",
       "\n"
      ],
      "text/plain": [
       "   Län                  Antal ansökningar Beviljat stödbelopp (kr)\n",
       "1  Blekinge län          56                52818039               \n",
       "2  Dalarnas län         118               181079328               \n",
       "3  Gotlands län          29                63826347               \n",
       "4  Gävleborgs län        67               330743348               \n",
       "5  Hallands län         113               156778004               \n",
       "6  Jämtlands län         58                33982476               \n",
       "7  Jönköpings län       184               420079329               \n",
       "8  Kalmar län            83               273688433               \n",
       "9  Kronobergs län        75                76019976               \n",
       "10 Norrbottens län       65               111060760               \n",
       "11 Skåne län            383               535006475               \n",
       "12 Stockholms län       721               604677046               \n",
       "13 Södermanlands län    106               185568071               \n",
       "14 Uppsala län          102               176335232               \n",
       "15 Värmlands län         80                47956050               \n",
       "16 Västerbottens län     74                87828209               \n",
       "17 Västernorrlands län   62                67040702               \n",
       "18 Västmanlands län      88               118791845               \n",
       "19 Västra Götalands län 454               574755435               \n",
       "20 Örebro län            93               209847175               \n",
       "21 Östergötlands län    156               237861196               "
      ]
     },
     "metadata": {},
     "output_type": "display_data"
    }
   ],
   "source": [
    "lan <- df %>% \n",
    "  group_by(Län) %>% \n",
    "  summarize(\"Antal ansökningar\"=n(), \"Beviljat stödbelopp (kr)\"=sum(`Beviljat stödbelopp`))\n",
    "head(lan, 22)"
   ]
  },
  {
   "cell_type": "markdown",
   "metadata": {},
   "source": [
    "**Gör en tabell för varje län.**"
   ]
  },
  {
   "cell_type": "code",
   "execution_count": 17,
   "metadata": {},
   "outputs": [],
   "source": [
    "lista_lan <- c(\"Blekinge län\", \"Dalarnas län\", \"Gotlands län\", \"Gävleborgs län\", \"Hallands län\", \"Jämtlands län\", \"Jönköpings län\", \"Kalmar län\", \"Kronobergs län\", \"Norrbottens län\", \"Skåne län\", \"Stockholms län\", \"Södermanlands län\", \"Uppsala län\", \"Värmlands län\", \"Västerbottens län\", \"Västernorrlands län\", \"Västmanlands län\", \"Västra Götalands län\", \"Örebro län\", \"Östergötlands län\")\n",
    "lans_tabell <- rep(0,22)\n",
    "\n",
    "for (i in lista_lan) {\n",
    "  table <- df %>% filter(Län == i) %>% \n",
    "  summarize(\"Totalt\"=sum(`Beviljat stödbelopp`), \n",
    "            \"Största\"=max(`Beviljat stödbelopp`), \n",
    "            \"Minsta\"=min(`Beviljat stödbelopp`),\n",
    "            \"Medel\"=round(mean(`Beviljat stödbelopp`)),\n",
    "            \"Antal ansökningar\"=n())\n",
    "lans_tabell <- rbind(lans_tabell, table)\n",
    "}"
   ]
  },
  {
   "cell_type": "markdown",
   "metadata": {},
   "source": [
    "**Åtgärdskategorier per län.**"
   ]
  },
  {
   "cell_type": "code",
   "execution_count": 19,
   "metadata": {},
   "outputs": [],
   "source": [
    "for (i in lista_lan) {\n",
    "  table <- df %>% filter(Län == i) %>% \n",
    "    group_by(Åtgärdskategori) %>% \n",
    "    summarize(\"Antal ansökningar\"=n(), \"Beviljat stödbelopp (kr)\"=sum(`Beviljat stödbelopp`))\n",
    "  df2 <- table\n",
    "  df2 <- arrange(df2, desc(`Antal ansökningar`))\n",
    "  assign(paste0(i,\" data\"), df2)\n",
    "}"
   ]
  }
 ],
 "metadata": {
  "kernelspec": {
   "display_name": "R",
   "language": "R",
   "name": "ir"
  },
  "language_info": {
   "codemirror_mode": "r",
   "file_extension": ".r",
   "mimetype": "text/x-r-source",
   "name": "R",
   "pygments_lexer": "r",
   "version": "3.6.2"
  }
 },
 "nbformat": 4,
 "nbformat_minor": 4
}
